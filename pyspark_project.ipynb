{
 "cells": [
  {
   "cell_type": "code",
   "execution_count": 1,
   "id": "4f278e27",
   "metadata": {},
   "outputs": [],
   "source": [
    "import pyspark\n",
    "import seaborn as sns \n",
    "import matplotlib.pyplot as plt\n",
    "import numpy as np"
   ]
  },
  {
   "cell_type": "code",
   "execution_count": 2,
   "id": "ec3602ef",
   "metadata": {},
   "outputs": [],
   "source": [
    "from pyspark.sql import SparkSession\n",
    "spark = SparkSession.builder.appName(\"Admit_predict\").getOrCreate()"
   ]
  },
  {
   "cell_type": "code",
   "execution_count": 3,
   "id": "363c8af7",
   "metadata": {},
   "outputs": [
    {
     "name": "stdout",
     "output_type": "stream",
     "text": [
      "+----------+---------+-----------+-----------------+---+----+----+--------+----------------+\n",
      "|Serial No.|GRE Score|TOEFL Score|University Rating|SOP|LOR |CGPA|Research|Chance of Admit |\n",
      "+----------+---------+-----------+-----------------+---+----+----+--------+----------------+\n",
      "|         1|      337|        118|                4|4.5| 4.5|9.65|       1|            0.92|\n",
      "|         2|      324|        107|                4|4.0| 4.5|8.87|       1|            0.76|\n",
      "|         3|      316|        104|                3|3.0| 3.5| 8.0|       1|            0.72|\n",
      "|         4|      322|        110|                3|3.5| 2.5|8.67|       1|             0.8|\n",
      "|         5|      314|        103|                2|2.0| 3.0|8.21|       0|            0.65|\n",
      "|         6|      330|        115|                5|4.5| 3.0|9.34|       1|             0.9|\n",
      "|         7|      321|        109|                3|3.0| 4.0| 8.2|       1|            0.75|\n",
      "|         8|      308|        101|                2|3.0| 4.0| 7.9|       0|            0.68|\n",
      "|         9|      302|        102|                1|2.0| 1.5| 8.0|       0|             0.5|\n",
      "|        10|      323|        108|                3|3.5| 3.0| 8.6|       0|            0.45|\n",
      "|        11|      325|        106|                3|3.5| 4.0| 8.4|       1|            0.52|\n",
      "|        12|      327|        111|                4|4.0| 4.5| 9.0|       1|            0.84|\n",
      "|        13|      328|        112|                4|4.0| 4.5| 9.1|       1|            0.78|\n",
      "|        14|      307|        109|                3|4.0| 3.0| 8.0|       1|            0.62|\n",
      "|        15|      311|        104|                3|3.5| 2.0| 8.2|       1|            0.61|\n",
      "|        16|      314|        105|                3|3.5| 2.5| 8.3|       0|            0.54|\n",
      "|        17|      317|        107|                3|4.0| 3.0| 8.7|       0|            0.66|\n",
      "|        18|      319|        106|                3|4.0| 3.0| 8.0|       1|            0.65|\n",
      "|        19|      318|        110|                3|4.0| 3.0| 8.8|       0|            0.63|\n",
      "|        20|      303|        102|                3|3.5| 3.0| 8.5|       0|            0.62|\n",
      "+----------+---------+-----------+-----------------+---+----+----+--------+----------------+\n",
      "only showing top 20 rows\n",
      "\n"
     ]
    }
   ],
   "source": [
    "data=spark.read.csv(\"Admission_Predict.csv\",header=True,inferSchema=True)\n",
    "data.show()"
   ]
  },
  {
   "cell_type": "code",
   "execution_count": 4,
   "id": "e34aa08d",
   "metadata": {},
   "outputs": [
    {
     "name": "stdout",
     "output_type": "stream",
     "text": [
      "root\n",
      " |-- Serial No.: integer (nullable = true)\n",
      " |-- GRE Score: integer (nullable = true)\n",
      " |-- TOEFL Score: integer (nullable = true)\n",
      " |-- University Rating: integer (nullable = true)\n",
      " |-- SOP: double (nullable = true)\n",
      " |-- LOR : double (nullable = true)\n",
      " |-- CGPA: double (nullable = true)\n",
      " |-- Research: integer (nullable = true)\n",
      " |-- Chance of Admit : double (nullable = true)\n",
      "\n"
     ]
    }
   ],
   "source": [
    "data.printSchema()"
   ]
  },
  {
   "cell_type": "code",
   "execution_count": 5,
   "id": "a4030427",
   "metadata": {},
   "outputs": [
    {
     "name": "stdout",
     "output_type": "stream",
     "text": [
      "+---------+-----------+-----------------+----+----------------+\n",
      "|GRE Score|TOEFL Score|University Rating|CGPA|Chance of Admit |\n",
      "+---------+-----------+-----------------+----+----------------+\n",
      "|      337|        118|                4|9.65|            0.92|\n",
      "|      324|        107|                4|8.87|            0.76|\n",
      "|      316|        104|                3| 8.0|            0.72|\n",
      "|      322|        110|                3|8.67|             0.8|\n",
      "|      314|        103|                2|8.21|            0.65|\n",
      "|      330|        115|                5|9.34|             0.9|\n",
      "|      321|        109|                3| 8.2|            0.75|\n",
      "|      308|        101|                2| 7.9|            0.68|\n",
      "|      302|        102|                1| 8.0|             0.5|\n",
      "|      323|        108|                3| 8.6|            0.45|\n",
      "|      325|        106|                3| 8.4|            0.52|\n",
      "|      327|        111|                4| 9.0|            0.84|\n",
      "|      328|        112|                4| 9.1|            0.78|\n",
      "|      307|        109|                3| 8.0|            0.62|\n",
      "|      311|        104|                3| 8.2|            0.61|\n",
      "|      314|        105|                3| 8.3|            0.54|\n",
      "|      317|        107|                3| 8.7|            0.66|\n",
      "|      319|        106|                3| 8.0|            0.65|\n",
      "|      318|        110|                3| 8.8|            0.63|\n",
      "|      303|        102|                3| 8.5|            0.62|\n",
      "+---------+-----------+-----------------+----+----------------+\n",
      "only showing top 20 rows\n",
      "\n"
     ]
    }
   ],
   "source": [
    "data_selected = data.select(['GRE Score','TOEFL Score','University Rating','CGPA','Chance of Admit '])\n",
    "data_selected.show()"
   ]
  },
  {
   "cell_type": "code",
   "execution_count": 6,
   "id": "0e852032",
   "metadata": {},
   "outputs": [
    {
     "name": "stdout",
     "output_type": "stream",
     "text": [
      "+---------+-----------+-----------------+----+----------------+--------------------+\n",
      "|GRE Score|TOEFL Score|University Rating|CGPA|Chance of Admit |Independent_Features|\n",
      "+---------+-----------+-----------------+----+----------------+--------------------+\n",
      "|      337|        118|                4|9.65|            0.92|[337.0,118.0,4.0,...|\n",
      "|      324|        107|                4|8.87|            0.76|[324.0,107.0,4.0,...|\n",
      "|      316|        104|                3| 8.0|            0.72|[316.0,104.0,3.0,...|\n",
      "|      322|        110|                3|8.67|             0.8|[322.0,110.0,3.0,...|\n",
      "|      314|        103|                2|8.21|            0.65|[314.0,103.0,2.0,...|\n",
      "|      330|        115|                5|9.34|             0.9|[330.0,115.0,5.0,...|\n",
      "|      321|        109|                3| 8.2|            0.75|[321.0,109.0,3.0,...|\n",
      "|      308|        101|                2| 7.9|            0.68|[308.0,101.0,2.0,...|\n",
      "|      302|        102|                1| 8.0|             0.5|[302.0,102.0,1.0,...|\n",
      "|      323|        108|                3| 8.6|            0.45|[323.0,108.0,3.0,...|\n",
      "|      325|        106|                3| 8.4|            0.52|[325.0,106.0,3.0,...|\n",
      "|      327|        111|                4| 9.0|            0.84|[327.0,111.0,4.0,...|\n",
      "|      328|        112|                4| 9.1|            0.78|[328.0,112.0,4.0,...|\n",
      "|      307|        109|                3| 8.0|            0.62|[307.0,109.0,3.0,...|\n",
      "|      311|        104|                3| 8.2|            0.61|[311.0,104.0,3.0,...|\n",
      "|      314|        105|                3| 8.3|            0.54|[314.0,105.0,3.0,...|\n",
      "|      317|        107|                3| 8.7|            0.66|[317.0,107.0,3.0,...|\n",
      "|      319|        106|                3| 8.0|            0.65|[319.0,106.0,3.0,...|\n",
      "|      318|        110|                3| 8.8|            0.63|[318.0,110.0,3.0,...|\n",
      "|      303|        102|                3| 8.5|            0.62|[303.0,102.0,3.0,...|\n",
      "+---------+-----------+-----------------+----+----------------+--------------------+\n",
      "only showing top 20 rows\n",
      "\n"
     ]
    }
   ],
   "source": [
    "from pyspark.ml.feature import VectorAssembler\n",
    "assembler = VectorAssembler(inputCols=['GRE Score','TOEFL Score','University Rating','CGPA'],outputCol='Independent_Features')\n",
    "output = assembler.transform(data_selected)\n",
    "output.show()"
   ]
  },
  {
   "cell_type": "code",
   "execution_count": 7,
   "id": "bbb0bb01",
   "metadata": {},
   "outputs": [
    {
     "name": "stdout",
     "output_type": "stream",
     "text": [
      "+--------------------+----------------+\n",
      "|Independent_Features|Chance of Admit |\n",
      "+--------------------+----------------+\n",
      "|[337.0,118.0,4.0,...|            0.92|\n",
      "|[324.0,107.0,4.0,...|            0.76|\n",
      "|[316.0,104.0,3.0,...|            0.72|\n",
      "|[322.0,110.0,3.0,...|             0.8|\n",
      "|[314.0,103.0,2.0,...|            0.65|\n",
      "|[330.0,115.0,5.0,...|             0.9|\n",
      "|[321.0,109.0,3.0,...|            0.75|\n",
      "|[308.0,101.0,2.0,...|            0.68|\n",
      "|[302.0,102.0,1.0,...|             0.5|\n",
      "|[323.0,108.0,3.0,...|            0.45|\n",
      "|[325.0,106.0,3.0,...|            0.52|\n",
      "|[327.0,111.0,4.0,...|            0.84|\n",
      "|[328.0,112.0,4.0,...|            0.78|\n",
      "|[307.0,109.0,3.0,...|            0.62|\n",
      "|[311.0,104.0,3.0,...|            0.61|\n",
      "|[314.0,105.0,3.0,...|            0.54|\n",
      "|[317.0,107.0,3.0,...|            0.66|\n",
      "|[319.0,106.0,3.0,...|            0.65|\n",
      "|[318.0,110.0,3.0,...|            0.63|\n",
      "|[303.0,102.0,3.0,...|            0.62|\n",
      "+--------------------+----------------+\n",
      "only showing top 20 rows\n",
      "\n"
     ]
    }
   ],
   "source": [
    "output=output.select(['Independent_Features','Chance of Admit '])\n",
    "output.show()"
   ]
  },
  {
   "cell_type": "code",
   "execution_count": 8,
   "id": "85988dad",
   "metadata": {},
   "outputs": [
    {
     "name": "stdout",
     "output_type": "stream",
     "text": [
      "+--------------------+----------------+\n",
      "|Independent_Features|Chance of Admit |\n",
      "+--------------------+----------------+\n",
      "|[290.0,104.0,4.0,...|            0.45|\n",
      "|[293.0,97.0,2.0,7.8]|            0.64|\n",
      "|[294.0,93.0,1.0,7...|            0.46|\n",
      "|[294.0,95.0,1.0,7...|            0.49|\n",
      "|[295.0,96.0,2.0,7...|            0.47|\n",
      "|[295.0,99.0,2.0,7...|            0.57|\n",
      "|[295.0,101.0,2.0,...|            0.69|\n",
      "|[296.0,97.0,2.0,7.8]|            0.49|\n",
      "|[296.0,99.0,2.0,7...|            0.47|\n",
      "|[296.0,99.0,2.0,8...|            0.61|\n",
      "|[296.0,101.0,1.0,...|             0.6|\n",
      "|[297.0,96.0,2.0,7...|            0.34|\n",
      "|[297.0,100.0,1.0,...|            0.52|\n",
      "|[298.0,98.0,2.0,8...|            0.34|\n",
      "|[298.0,99.0,1.0,7...|            0.53|\n",
      "|[298.0,101.0,2.0,...|            0.54|\n",
      "|[298.0,105.0,3.0,...|            0.69|\n",
      "|[299.0,96.0,2.0,7...|            0.54|\n",
      "|[299.0,100.0,1.0,...|            0.59|\n",
      "|[300.0,97.0,2.0,8.1]|            0.65|\n",
      "+--------------------+----------------+\n",
      "only showing top 20 rows\n",
      "\n"
     ]
    }
   ],
   "source": [
    "from pyspark.ml.regression import LinearRegression\n",
    "train_data,test_data=output.randomSplit([0.70,0.30])\n",
    "train_data.show()"
   ]
  },
  {
   "cell_type": "code",
   "execution_count": 22,
   "id": "650af04d",
   "metadata": {},
   "outputs": [],
   "source": [
    "lr=LinearRegression(featuresCol='Independent_Features',labelCol='Chance of Admit ')\n",
    "regressor=lr.fit(train_data)"
   ]
  },
  {
   "cell_type": "code",
   "execution_count": 23,
   "id": "c32a8cf6",
   "metadata": {},
   "outputs": [
    {
     "data": {
      "text/plain": [
       "DenseVector([0.0019, 0.0034, 0.0073, 0.1364])"
      ]
     },
     "execution_count": 23,
     "metadata": {},
     "output_type": "execute_result"
    }
   ],
   "source": [
    "regressor.coefficients"
   ]
  },
  {
   "cell_type": "code",
   "execution_count": 11,
   "id": "9d8db3f7",
   "metadata": {},
   "outputs": [
    {
     "data": {
      "text/plain": [
       "-1.4283104872419898"
      ]
     },
     "execution_count": 11,
     "metadata": {},
     "output_type": "execute_result"
    }
   ],
   "source": [
    "regressor.intercept"
   ]
  },
  {
   "cell_type": "code",
   "execution_count": 12,
   "id": "19d397e6",
   "metadata": {},
   "outputs": [
    {
     "data": {
      "text/plain": [
       "<pyspark.ml.regression.LinearRegressionSummary at 0x254e99c3400>"
      ]
     },
     "execution_count": 12,
     "metadata": {},
     "output_type": "execute_result"
    }
   ],
   "source": [
    "pred = regressor.evaluate(test_data)\n"
   ]
  },
  {
   "cell_type": "code",
   "execution_count": 14,
   "id": "8c047c5b",
   "metadata": {},
   "outputs": [
    {
     "name": "stdout",
     "output_type": "stream",
     "text": [
      "+--------------------+----------------+-------------------+\n",
      "|Independent_Features|Chance of Admit |         prediction|\n",
      "+--------------------+----------------+-------------------+\n",
      "|[290.0,100.0,1.0,...|            0.47|0.49725923322448895|\n",
      "|[295.0,93.0,1.0,7.2]|            0.46| 0.4342031720928894|\n",
      "|[296.0,95.0,2.0,7...|            0.44|0.49648113593196075|\n",
      "|[297.0,96.0,2.0,7...|            0.43| 0.5494732033983953|\n",
      "|[297.0,98.0,2.0,7...|            0.59| 0.5261737456816389|\n",
      "|[298.0,92.0,1.0,7...|            0.51| 0.5293034656519182|\n",
      "|[298.0,98.0,2.0,7.5]|            0.44| 0.5048906786823946|\n",
      "|[298.0,99.0,2.0,7.6]|            0.46| 0.5218825709320354|\n",
      "|[299.0,94.0,1.0,7...|            0.42|0.46426264014447516|\n",
      "|[299.0,97.0,3.0,7...|            0.38| 0.5325596064056974|\n",
      "|[299.0,100.0,2.0,...|            0.68| 0.5653274313624637|\n",
      "|[299.0,100.0,3.0,...|            0.63| 0.5917186034711965|\n",
      "|[299.0,102.0,3.0,...|            0.56| 0.6802578567476572|\n",
      "|[299.0,106.0,2.0,...|            0.64|  0.656367691104873|\n",
      "|[300.0,99.0,1.0,6.8]|            0.36| 0.4092808898030704|\n",
      "|[300.0,100.0,3.0,...|            0.64| 0.6809103607457401|\n",
      "|[300.0,102.0,2.0,...|            0.56| 0.5725726019847828|\n",
      "|[301.0,104.0,3.0,...|            0.68| 0.6225755853489889|\n",
      "|[302.0,99.0,2.0,7...|            0.56|  0.579958408475153|\n",
      "|[302.0,101.0,2.0,...|            0.46| 0.5853005718664159|\n",
      "+--------------------+----------------+-------------------+\n",
      "only showing top 20 rows\n",
      "\n"
     ]
    }
   ],
   "source": [
    "pred.predictions.show()"
   ]
  },
  {
   "cell_type": "code",
   "execution_count": 32,
   "id": "4ee50bed",
   "metadata": {},
   "outputs": [
    {
     "ename": "Py4JJavaError",
     "evalue": "An error occurred while calling o502.save.\n: java.io.IOException: Path /Users/Hipparagi/webapp already exists. To overwrite it, please use write.overwrite().save(path) for Scala and use write().overwrite().save(path) for Java and Python.\r\n\tat org.apache.spark.ml.util.FileSystemOverwrite.handleOverwrite(ReadWrite.scala:683)\r\n\tat org.apache.spark.ml.util.MLWriter.save(ReadWrite.scala:167)\r\n\tat sun.reflect.NativeMethodAccessorImpl.invoke0(Native Method)\r\n\tat sun.reflect.NativeMethodAccessorImpl.invoke(Unknown Source)\r\n\tat sun.reflect.DelegatingMethodAccessorImpl.invoke(Unknown Source)\r\n\tat java.lang.reflect.Method.invoke(Unknown Source)\r\n\tat py4j.reflection.MethodInvoker.invoke(MethodInvoker.java:244)\r\n\tat py4j.reflection.ReflectionEngine.invoke(ReflectionEngine.java:357)\r\n\tat py4j.Gateway.invoke(Gateway.java:282)\r\n\tat py4j.commands.AbstractCommand.invokeMethod(AbstractCommand.java:132)\r\n\tat py4j.commands.CallCommand.execute(CallCommand.java:79)\r\n\tat py4j.ClientServerConnection.waitForCommands(ClientServerConnection.java:182)\r\n\tat py4j.ClientServerConnection.run(ClientServerConnection.java:106)\r\n\tat java.lang.Thread.run(Unknown Source)\r\n",
     "output_type": "error",
     "traceback": [
      "\u001b[1;31m---------------------------------------------------------------------------\u001b[0m",
      "\u001b[1;31mPy4JJavaError\u001b[0m                             Traceback (most recent call last)",
      "\u001b[1;32m<ipython-input-32-4a8e4bced0a7>\u001b[0m in \u001b[0;36m<module>\u001b[1;34m\u001b[0m\n\u001b[1;32m----> 1\u001b[1;33m \u001b[0mlr\u001b[0m\u001b[1;33m.\u001b[0m\u001b[0mwrite\u001b[0m\u001b[1;33m(\u001b[0m\u001b[1;33m)\u001b[0m\u001b[1;33m.\u001b[0m\u001b[0msave\u001b[0m\u001b[1;33m(\u001b[0m\u001b[1;34m\"/Users/Hipparagi/webapp\"\u001b[0m\u001b[1;33m)\u001b[0m\u001b[1;33m\u001b[0m\u001b[1;33m\u001b[0m\u001b[0m\n\u001b[0m",
      "\u001b[1;32mF:\\ana\\lib\\site-packages\\pyspark\\ml\\util.py\u001b[0m in \u001b[0;36msave\u001b[1;34m(self, path)\u001b[0m\n\u001b[0;32m    175\u001b[0m         \u001b[1;32mif\u001b[0m \u001b[1;32mnot\u001b[0m \u001b[0misinstance\u001b[0m\u001b[1;33m(\u001b[0m\u001b[0mpath\u001b[0m\u001b[1;33m,\u001b[0m \u001b[0mstr\u001b[0m\u001b[1;33m)\u001b[0m\u001b[1;33m:\u001b[0m\u001b[1;33m\u001b[0m\u001b[1;33m\u001b[0m\u001b[0m\n\u001b[0;32m    176\u001b[0m             \u001b[1;32mraise\u001b[0m \u001b[0mTypeError\u001b[0m\u001b[1;33m(\u001b[0m\u001b[1;34m\"path should be a string, got type %s\"\u001b[0m \u001b[1;33m%\u001b[0m \u001b[0mtype\u001b[0m\u001b[1;33m(\u001b[0m\u001b[0mpath\u001b[0m\u001b[1;33m)\u001b[0m\u001b[1;33m)\u001b[0m\u001b[1;33m\u001b[0m\u001b[1;33m\u001b[0m\u001b[0m\n\u001b[1;32m--> 177\u001b[1;33m         \u001b[0mself\u001b[0m\u001b[1;33m.\u001b[0m\u001b[0m_jwrite\u001b[0m\u001b[1;33m.\u001b[0m\u001b[0msave\u001b[0m\u001b[1;33m(\u001b[0m\u001b[0mpath\u001b[0m\u001b[1;33m)\u001b[0m\u001b[1;33m\u001b[0m\u001b[1;33m\u001b[0m\u001b[0m\n\u001b[0m\u001b[0;32m    178\u001b[0m \u001b[1;33m\u001b[0m\u001b[0m\n\u001b[0;32m    179\u001b[0m     \u001b[1;32mdef\u001b[0m \u001b[0moverwrite\u001b[0m\u001b[1;33m(\u001b[0m\u001b[0mself\u001b[0m\u001b[1;33m)\u001b[0m\u001b[1;33m:\u001b[0m\u001b[1;33m\u001b[0m\u001b[1;33m\u001b[0m\u001b[0m\n",
      "\u001b[1;32mF:\\ana\\lib\\site-packages\\py4j\\java_gateway.py\u001b[0m in \u001b[0;36m__call__\u001b[1;34m(self, *args)\u001b[0m\n\u001b[0;32m   1307\u001b[0m \u001b[1;33m\u001b[0m\u001b[0m\n\u001b[0;32m   1308\u001b[0m         \u001b[0manswer\u001b[0m \u001b[1;33m=\u001b[0m \u001b[0mself\u001b[0m\u001b[1;33m.\u001b[0m\u001b[0mgateway_client\u001b[0m\u001b[1;33m.\u001b[0m\u001b[0msend_command\u001b[0m\u001b[1;33m(\u001b[0m\u001b[0mcommand\u001b[0m\u001b[1;33m)\u001b[0m\u001b[1;33m\u001b[0m\u001b[1;33m\u001b[0m\u001b[0m\n\u001b[1;32m-> 1309\u001b[1;33m         return_value = get_return_value(\n\u001b[0m\u001b[0;32m   1310\u001b[0m             answer, self.gateway_client, self.target_id, self.name)\n\u001b[0;32m   1311\u001b[0m \u001b[1;33m\u001b[0m\u001b[0m\n",
      "\u001b[1;32mF:\\ana\\lib\\site-packages\\pyspark\\sql\\utils.py\u001b[0m in \u001b[0;36mdeco\u001b[1;34m(*a, **kw)\u001b[0m\n\u001b[0;32m    109\u001b[0m     \u001b[1;32mdef\u001b[0m \u001b[0mdeco\u001b[0m\u001b[1;33m(\u001b[0m\u001b[1;33m*\u001b[0m\u001b[0ma\u001b[0m\u001b[1;33m,\u001b[0m \u001b[1;33m**\u001b[0m\u001b[0mkw\u001b[0m\u001b[1;33m)\u001b[0m\u001b[1;33m:\u001b[0m\u001b[1;33m\u001b[0m\u001b[1;33m\u001b[0m\u001b[0m\n\u001b[0;32m    110\u001b[0m         \u001b[1;32mtry\u001b[0m\u001b[1;33m:\u001b[0m\u001b[1;33m\u001b[0m\u001b[1;33m\u001b[0m\u001b[0m\n\u001b[1;32m--> 111\u001b[1;33m             \u001b[1;32mreturn\u001b[0m \u001b[0mf\u001b[0m\u001b[1;33m(\u001b[0m\u001b[1;33m*\u001b[0m\u001b[0ma\u001b[0m\u001b[1;33m,\u001b[0m \u001b[1;33m**\u001b[0m\u001b[0mkw\u001b[0m\u001b[1;33m)\u001b[0m\u001b[1;33m\u001b[0m\u001b[1;33m\u001b[0m\u001b[0m\n\u001b[0m\u001b[0;32m    112\u001b[0m         \u001b[1;32mexcept\u001b[0m \u001b[0mpy4j\u001b[0m\u001b[1;33m.\u001b[0m\u001b[0mprotocol\u001b[0m\u001b[1;33m.\u001b[0m\u001b[0mPy4JJavaError\u001b[0m \u001b[1;32mas\u001b[0m \u001b[0me\u001b[0m\u001b[1;33m:\u001b[0m\u001b[1;33m\u001b[0m\u001b[1;33m\u001b[0m\u001b[0m\n\u001b[0;32m    113\u001b[0m             \u001b[0mconverted\u001b[0m \u001b[1;33m=\u001b[0m \u001b[0mconvert_exception\u001b[0m\u001b[1;33m(\u001b[0m\u001b[0me\u001b[0m\u001b[1;33m.\u001b[0m\u001b[0mjava_exception\u001b[0m\u001b[1;33m)\u001b[0m\u001b[1;33m\u001b[0m\u001b[1;33m\u001b[0m\u001b[0m\n",
      "\u001b[1;32mF:\\ana\\lib\\site-packages\\py4j\\protocol.py\u001b[0m in \u001b[0;36mget_return_value\u001b[1;34m(answer, gateway_client, target_id, name)\u001b[0m\n\u001b[0;32m    324\u001b[0m             \u001b[0mvalue\u001b[0m \u001b[1;33m=\u001b[0m \u001b[0mOUTPUT_CONVERTER\u001b[0m\u001b[1;33m[\u001b[0m\u001b[0mtype\u001b[0m\u001b[1;33m]\u001b[0m\u001b[1;33m(\u001b[0m\u001b[0manswer\u001b[0m\u001b[1;33m[\u001b[0m\u001b[1;36m2\u001b[0m\u001b[1;33m:\u001b[0m\u001b[1;33m]\u001b[0m\u001b[1;33m,\u001b[0m \u001b[0mgateway_client\u001b[0m\u001b[1;33m)\u001b[0m\u001b[1;33m\u001b[0m\u001b[1;33m\u001b[0m\u001b[0m\n\u001b[0;32m    325\u001b[0m             \u001b[1;32mif\u001b[0m \u001b[0manswer\u001b[0m\u001b[1;33m[\u001b[0m\u001b[1;36m1\u001b[0m\u001b[1;33m]\u001b[0m \u001b[1;33m==\u001b[0m \u001b[0mREFERENCE_TYPE\u001b[0m\u001b[1;33m:\u001b[0m\u001b[1;33m\u001b[0m\u001b[1;33m\u001b[0m\u001b[0m\n\u001b[1;32m--> 326\u001b[1;33m                 raise Py4JJavaError(\n\u001b[0m\u001b[0;32m    327\u001b[0m                     \u001b[1;34m\"An error occurred while calling {0}{1}{2}.\\n\"\u001b[0m\u001b[1;33m.\u001b[0m\u001b[1;33m\u001b[0m\u001b[1;33m\u001b[0m\u001b[0m\n\u001b[0;32m    328\u001b[0m                     format(target_id, \".\", name), value)\n",
      "\u001b[1;31mPy4JJavaError\u001b[0m: An error occurred while calling o502.save.\n: java.io.IOException: Path /Users/Hipparagi/webapp already exists. To overwrite it, please use write.overwrite().save(path) for Scala and use write().overwrite().save(path) for Java and Python.\r\n\tat org.apache.spark.ml.util.FileSystemOverwrite.handleOverwrite(ReadWrite.scala:683)\r\n\tat org.apache.spark.ml.util.MLWriter.save(ReadWrite.scala:167)\r\n\tat sun.reflect.NativeMethodAccessorImpl.invoke0(Native Method)\r\n\tat sun.reflect.NativeMethodAccessorImpl.invoke(Unknown Source)\r\n\tat sun.reflect.DelegatingMethodAccessorImpl.invoke(Unknown Source)\r\n\tat java.lang.reflect.Method.invoke(Unknown Source)\r\n\tat py4j.reflection.MethodInvoker.invoke(MethodInvoker.java:244)\r\n\tat py4j.reflection.ReflectionEngine.invoke(ReflectionEngine.java:357)\r\n\tat py4j.Gateway.invoke(Gateway.java:282)\r\n\tat py4j.commands.AbstractCommand.invokeMethod(AbstractCommand.java:132)\r\n\tat py4j.commands.CallCommand.execute(CallCommand.java:79)\r\n\tat py4j.ClientServerConnection.waitForCommands(ClientServerConnection.java:182)\r\n\tat py4j.ClientServerConnection.run(ClientServerConnection.java:106)\r\n\tat java.lang.Thread.run(Unknown Source)\r\n"
     ]
    }
   ],
   "source": [
    "lr.write().save(\"/Users/Hipparagi/webapp\") "
   ]
  }
 ],
 "metadata": {
  "kernelspec": {
   "display_name": "Python 3",
   "language": "python",
   "name": "python3"
  },
  "language_info": {
   "codemirror_mode": {
    "name": "ipython",
    "version": 3
   },
   "file_extension": ".py",
   "mimetype": "text/x-python",
   "name": "python",
   "nbconvert_exporter": "python",
   "pygments_lexer": "ipython3",
   "version": "3.8.8"
  }
 },
 "nbformat": 4,
 "nbformat_minor": 5
}
